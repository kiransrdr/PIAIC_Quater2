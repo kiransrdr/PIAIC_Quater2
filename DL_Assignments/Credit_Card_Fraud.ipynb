{
  "nbformat": 4,
  "nbformat_minor": 0,
  "metadata": {
    "colab": {
      "name": "Credit Card Fraud.ipynb",
      "provenance": [],
      "collapsed_sections": []
    },
    "kernelspec": {
      "name": "python3",
      "display_name": "Python 3"
    }
  },
  "cells": [
    {
      "cell_type": "code",
      "metadata": {
        "id": "iBLYoxFawYRa"
      },
      "source": [
        "import tensorflow as tf\n",
        "import pandas as pd\n",
        "import numpy as np\n",
        "import matplotlib.pyplot as plt\n",
        "from keras import models\n",
        "from keras import layers\n",
        "from sklearn.model_selection import train_test_split"
      ],
      "execution_count": 1,
      "outputs": []
    },
    {
      "cell_type": "code",
      "metadata": {
        "id": "oXLJZkTfwjo5",
        "colab": {
          "resources": {
            "http://localhost:8080/nbextensions/google.colab/files.js": {
              "data": "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",
              "ok": true,
              "headers": [
                [
                  "content-type",
                  "application/javascript"
                ]
              ],
              "status": 200,
              "status_text": ""
            }
          },
          "base_uri": "https://localhost:8080/",
          "height": 73
        },
        "outputId": "5824e748-749a-4739-a7b1-0d13098ff052"
      },
      "source": [
        "from google.colab import files\n",
        "uploaded = files.upload()"
      ],
      "execution_count": 2,
      "outputs": [
        {
          "output_type": "display_data",
          "data": {
            "text/html": [
              "\n",
              "     <input type=\"file\" id=\"files-729188df-3d52-4faa-8602-a40df14be2fe\" name=\"files[]\" multiple disabled\n",
              "        style=\"border:none\" />\n",
              "     <output id=\"result-729188df-3d52-4faa-8602-a40df14be2fe\">\n",
              "      Upload widget is only available when the cell has been executed in the\n",
              "      current browser session. Please rerun this cell to enable.\n",
              "      </output>\n",
              "      <script src=\"/nbextensions/google.colab/files.js\"></script> "
            ],
            "text/plain": [
              "<IPython.core.display.HTML object>"
            ]
          },
          "metadata": {
            "tags": []
          }
        },
        {
          "output_type": "stream",
          "text": [
            "Saving creditcard.csv to creditcard.csv\n"
          ],
          "name": "stdout"
        }
      ]
    },
    {
      "cell_type": "code",
      "metadata": {
        "id": "94BTXXFLtzMQ"
      },
      "source": [
        "import io\n",
        "df= pd.read_csv(io.BytesIO(uploaded[\"creditcard.csv\"]))"
      ],
      "execution_count": 436,
      "outputs": []
    },
    {
      "cell_type": "markdown",
      "metadata": {
        "id": "J7iigCcgp4cd"
      },
      "source": [
        "**Balancing the data**"
      ]
    },
    {
      "cell_type": "code",
      "metadata": {
        "colab": {
          "base_uri": "https://localhost:8080/"
        },
        "id": "gpH6yaI8p-Xj",
        "outputId": "a8fa65e1-8df8-4af0-f062-358a65e96b8f"
      },
      "source": [
        "non_fraud=df[df[\"Class\"]==0]\n",
        "fraud = df[df[\"Class\"]==1]\n",
        "non_fraud.shape, fraud.shape"
      ],
      "execution_count": 437,
      "outputs": [
        {
          "output_type": "execute_result",
          "data": {
            "text/plain": [
              "((284315, 31), (492, 31))"
            ]
          },
          "metadata": {
            "tags": []
          },
          "execution_count": 437
        }
      ]
    },
    {
      "cell_type": "code",
      "metadata": {
        "colab": {
          "base_uri": "https://localhost:8080/"
        },
        "id": "UHkdJfAWqkG0",
        "outputId": "9af35a89-5cbb-4436-947e-9b723c8fc900"
      },
      "source": [
        "non_fraud=non_fraud.sample(fraud.shape[0])\n",
        "non_fraud.shape"
      ],
      "execution_count": 438,
      "outputs": [
        {
          "output_type": "execute_result",
          "data": {
            "text/plain": [
              "(492, 31)"
            ]
          },
          "metadata": {
            "tags": []
          },
          "execution_count": 438
        }
      ]
    },
    {
      "cell_type": "code",
      "metadata": {
        "colab": {
          "base_uri": "https://localhost:8080/"
        },
        "id": "_rXeRez9rx18",
        "outputId": "52f3765e-8247-4233-9e65-cc4d4180fb3f"
      },
      "source": [
        "data = fraud.append(non_fraud, ignore_index=True)\n",
        "data.shape\n",
        "data[\"Class\"].value_counts()"
      ],
      "execution_count": 439,
      "outputs": [
        {
          "output_type": "execute_result",
          "data": {
            "text/plain": [
              "1    492\n",
              "0    492\n",
              "Name: Class, dtype: int64"
            ]
          },
          "metadata": {
            "tags": []
          },
          "execution_count": 439
        }
      ]
    },
    {
      "cell_type": "code",
      "metadata": {
        "id": "_g2O7ndPsiMf"
      },
      "source": [
        "x_data= data.drop(columns=[\"Class\", \"Time\"], axis=0)\n",
        "label = data[\"Class\"]\n",
        "\n",
        "# mean=x_data.mean(axis=0)\n",
        "# std=x_data.std(axis=0)\n",
        "# x_data = (x_data-mean)/std\n",
        "\n"
      ],
      "execution_count": 440,
      "outputs": []
    },
    {
      "cell_type": "markdown",
      "metadata": {
        "id": "Bl2vhLJbcgPB"
      },
      "source": [
        "**Splitting Training and Test data**"
      ]
    },
    {
      "cell_type": "code",
      "metadata": {
        "id": "ujmrm9oHOEIb"
      },
      "source": [
        "train_data, test_data, train_labels, test_labels=train_test_split(x_data, label, test_size=0.3, random_state=0, stratify = label)"
      ],
      "execution_count": 441,
      "outputs": []
    },
    {
      "cell_type": "code",
      "metadata": {
        "colab": {
          "base_uri": "https://localhost:8080/"
        },
        "id": "NYvCfpldtchj",
        "outputId": "48f4de9f-b02e-4e1b-e820-6ccc80743ce1"
      },
      "source": [
        "train_data.shape, test_data.shape"
      ],
      "execution_count": 442,
      "outputs": [
        {
          "output_type": "execute_result",
          "data": {
            "text/plain": [
              "((688, 29), (296, 29))"
            ]
          },
          "metadata": {
            "tags": []
          },
          "execution_count": 442
        }
      ]
    },
    {
      "cell_type": "markdown",
      "metadata": {
        "id": "N2IjHw9-vr8R"
      },
      "source": [
        "**Normalizing the data**"
      ]
    },
    {
      "cell_type": "code",
      "metadata": {
        "id": "SUGcuylWwQNH"
      },
      "source": [
        "mean=train_data.mean(axis=0)\n",
        "std=train_data.std(axis=0)\n",
        "train_data = (train_data-mean)/std\n",
        "test_data = (test_data-mean)/std\n",
        "\n",
        "# max = train_data.max()\n",
        "# min = train_data.min()\n",
        "# train_data = (train_data-min)/(max-min)\n",
        "# test_data = (test_data - min)/(max-min)\n"
      ],
      "execution_count": 443,
      "outputs": []
    },
    {
      "cell_type": "code",
      "metadata": {
        "id": "ml_bHaukvCq1"
      },
      "source": [
        "train_labels=np.asarray(train_labels).astype(dtype=\"float64\")\n",
        "test_labels=np.asarray(test_labels).astype(dtype=\"float64\")"
      ],
      "execution_count": 444,
      "outputs": []
    },
    {
      "cell_type": "markdown",
      "metadata": {
        "id": "46HRquJwfVet"
      },
      "source": [
        "**Building The Network**"
      ]
    },
    {
      "cell_type": "code",
      "metadata": {
        "id": "DdLBceyKc8Kz"
      },
      "source": [
        "from keras import regularizers\n",
        "model= models.Sequential()\n",
        "model.add(layers.Dense(10, kernel_regularizer=regularizers.l1_l2(l1=0.001, l2=0.001), activation=\"relu\", input_shape=(train_data.shape[1],)))\n",
        "\n",
        "model.add(layers.Dense(10, kernel_regularizer=regularizers.l1_l2(l1=0.001, l2=0.001), activation=\"relu\"))\n",
        "\n",
        "model.add(layers.Dense(8,kernel_regularizer=regularizers.l1_l2(l1=0.001, l2=0.001), activation=\"relu\"))\n",
        "\n",
        "model.add(layers.Dense(6,kernel_regularizer=regularizers.l1_l2(l1=0.001, l2=0.001), activation=\"relu\"))\n",
        "\n",
        "model.add(layers.Dense(1,activation=\"sigmoid\"))\n",
        "\n",
        "model.compile(optimizer=\"rmsprop\", loss=\"binary_crossentropy\", metrics=[\"accuracy\"])"
      ],
      "execution_count": 445,
      "outputs": []
    },
    {
      "cell_type": "markdown",
      "metadata": {
        "id": "YjZ6MKm2dAT7"
      },
      "source": [
        "**Training The Network**"
      ]
    },
    {
      "cell_type": "code",
      "metadata": {
        "colab": {
          "base_uri": "https://localhost:8080/"
        },
        "id": "D6q4dtLZdD8U",
        "outputId": "989692c0-551c-4c38-b4a4-c0637ec72d99"
      },
      "source": [
        "history=model.fit(train_data, train_labels, epochs=100, validation_split=.2)"
      ],
      "execution_count": 446,
      "outputs": [
        {
          "output_type": "stream",
          "text": [
            "Epoch 1/100\n",
            "18/18 [==============================] - 1s 17ms/step - loss: 0.8059 - accuracy: 0.4861 - val_loss: 0.7226 - val_accuracy: 0.5290\n",
            "Epoch 2/100\n",
            "18/18 [==============================] - 0s 3ms/step - loss: 0.7072 - accuracy: 0.5059 - val_loss: 0.6698 - val_accuracy: 0.6232\n",
            "Epoch 3/100\n",
            "18/18 [==============================] - 0s 3ms/step - loss: 0.6376 - accuracy: 0.6848 - val_loss: 0.6340 - val_accuracy: 0.7754\n",
            "Epoch 4/100\n",
            "18/18 [==============================] - 0s 3ms/step - loss: 0.5917 - accuracy: 0.8718 - val_loss: 0.6074 - val_accuracy: 0.8261\n",
            "Epoch 5/100\n",
            "18/18 [==============================] - 0s 3ms/step - loss: 0.5862 - accuracy: 0.9021 - val_loss: 0.5850 - val_accuracy: 0.8841\n",
            "Epoch 6/100\n",
            "18/18 [==============================] - 0s 3ms/step - loss: 0.5407 - accuracy: 0.9298 - val_loss: 0.5652 - val_accuracy: 0.8986\n",
            "Epoch 7/100\n",
            "18/18 [==============================] - 0s 3ms/step - loss: 0.5265 - accuracy: 0.9561 - val_loss: 0.5464 - val_accuracy: 0.9130\n",
            "Epoch 8/100\n",
            "18/18 [==============================] - 0s 3ms/step - loss: 0.5258 - accuracy: 0.9378 - val_loss: 0.5283 - val_accuracy: 0.9203\n",
            "Epoch 9/100\n",
            "18/18 [==============================] - 0s 3ms/step - loss: 0.4994 - accuracy: 0.9471 - val_loss: 0.5113 - val_accuracy: 0.9348\n",
            "Epoch 10/100\n",
            "18/18 [==============================] - 0s 3ms/step - loss: 0.4637 - accuracy: 0.9368 - val_loss: 0.4931 - val_accuracy: 0.9420\n",
            "Epoch 11/100\n",
            "18/18 [==============================] - 0s 3ms/step - loss: 0.4650 - accuracy: 0.9624 - val_loss: 0.4808 - val_accuracy: 0.9348\n",
            "Epoch 12/100\n",
            "18/18 [==============================] - 0s 3ms/step - loss: 0.4398 - accuracy: 0.9657 - val_loss: 0.4674 - val_accuracy: 0.9348\n",
            "Epoch 13/100\n",
            "18/18 [==============================] - 0s 4ms/step - loss: 0.4354 - accuracy: 0.9523 - val_loss: 0.4546 - val_accuracy: 0.9348\n",
            "Epoch 14/100\n",
            "18/18 [==============================] - 0s 3ms/step - loss: 0.4197 - accuracy: 0.9562 - val_loss: 0.4373 - val_accuracy: 0.9348\n",
            "Epoch 15/100\n",
            "18/18 [==============================] - 0s 3ms/step - loss: 0.4211 - accuracy: 0.9529 - val_loss: 0.4254 - val_accuracy: 0.9203\n",
            "Epoch 16/100\n",
            "18/18 [==============================] - 0s 3ms/step - loss: 0.3812 - accuracy: 0.9752 - val_loss: 0.4153 - val_accuracy: 0.9275\n",
            "Epoch 17/100\n",
            "18/18 [==============================] - 0s 3ms/step - loss: 0.3885 - accuracy: 0.9565 - val_loss: 0.4034 - val_accuracy: 0.9275\n",
            "Epoch 18/100\n",
            "18/18 [==============================] - 0s 3ms/step - loss: 0.3781 - accuracy: 0.9575 - val_loss: 0.3929 - val_accuracy: 0.9275\n",
            "Epoch 19/100\n",
            "18/18 [==============================] - 0s 3ms/step - loss: 0.3575 - accuracy: 0.9551 - val_loss: 0.3800 - val_accuracy: 0.9275\n",
            "Epoch 20/100\n",
            "18/18 [==============================] - 0s 3ms/step - loss: 0.3308 - accuracy: 0.9753 - val_loss: 0.3698 - val_accuracy: 0.9348\n",
            "Epoch 21/100\n",
            "18/18 [==============================] - 0s 3ms/step - loss: 0.3247 - accuracy: 0.9680 - val_loss: 0.3581 - val_accuracy: 0.9275\n",
            "Epoch 22/100\n",
            "18/18 [==============================] - 0s 3ms/step - loss: 0.3088 - accuracy: 0.9660 - val_loss: 0.3456 - val_accuracy: 0.9275\n",
            "Epoch 23/100\n",
            "18/18 [==============================] - 0s 3ms/step - loss: 0.3049 - accuracy: 0.9625 - val_loss: 0.3331 - val_accuracy: 0.9275\n",
            "Epoch 24/100\n",
            "18/18 [==============================] - 0s 3ms/step - loss: 0.2915 - accuracy: 0.9596 - val_loss: 0.3232 - val_accuracy: 0.9203\n",
            "Epoch 25/100\n",
            "18/18 [==============================] - 0s 3ms/step - loss: 0.2701 - accuracy: 0.9803 - val_loss: 0.3132 - val_accuracy: 0.9203\n",
            "Epoch 26/100\n",
            "18/18 [==============================] - 0s 3ms/step - loss: 0.2568 - accuracy: 0.9705 - val_loss: 0.3057 - val_accuracy: 0.9348\n",
            "Epoch 27/100\n",
            "18/18 [==============================] - 0s 3ms/step - loss: 0.2388 - accuracy: 0.9705 - val_loss: 0.2926 - val_accuracy: 0.9203\n",
            "Epoch 28/100\n",
            "18/18 [==============================] - 0s 3ms/step - loss: 0.2350 - accuracy: 0.9691 - val_loss: 0.2869 - val_accuracy: 0.9275\n",
            "Epoch 29/100\n",
            "18/18 [==============================] - 0s 4ms/step - loss: 0.2344 - accuracy: 0.9648 - val_loss: 0.2793 - val_accuracy: 0.9275\n",
            "Epoch 30/100\n",
            "18/18 [==============================] - 0s 3ms/step - loss: 0.2138 - accuracy: 0.9729 - val_loss: 0.2670 - val_accuracy: 0.9275\n",
            "Epoch 31/100\n",
            "18/18 [==============================] - 0s 3ms/step - loss: 0.2125 - accuracy: 0.9701 - val_loss: 0.2637 - val_accuracy: 0.9275\n",
            "Epoch 32/100\n",
            "18/18 [==============================] - 0s 3ms/step - loss: 0.1949 - accuracy: 0.9719 - val_loss: 0.2578 - val_accuracy: 0.9275\n",
            "Epoch 33/100\n",
            "18/18 [==============================] - 0s 3ms/step - loss: 0.1903 - accuracy: 0.9737 - val_loss: 0.2562 - val_accuracy: 0.9275\n",
            "Epoch 34/100\n",
            "18/18 [==============================] - 0s 3ms/step - loss: 0.2053 - accuracy: 0.9681 - val_loss: 0.2567 - val_accuracy: 0.9420\n",
            "Epoch 35/100\n",
            "18/18 [==============================] - 0s 3ms/step - loss: 0.1972 - accuracy: 0.9685 - val_loss: 0.2500 - val_accuracy: 0.9348\n",
            "Epoch 36/100\n",
            "18/18 [==============================] - 0s 3ms/step - loss: 0.1824 - accuracy: 0.9756 - val_loss: 0.2528 - val_accuracy: 0.9348\n",
            "Epoch 37/100\n",
            "18/18 [==============================] - 0s 3ms/step - loss: 0.1916 - accuracy: 0.9710 - val_loss: 0.2475 - val_accuracy: 0.9348\n",
            "Epoch 38/100\n",
            "18/18 [==============================] - 0s 3ms/step - loss: 0.1640 - accuracy: 0.9764 - val_loss: 0.2511 - val_accuracy: 0.9348\n",
            "Epoch 39/100\n",
            "18/18 [==============================] - 0s 3ms/step - loss: 0.2048 - accuracy: 0.9603 - val_loss: 0.2464 - val_accuracy: 0.9348\n",
            "Epoch 40/100\n",
            "18/18 [==============================] - 0s 3ms/step - loss: 0.1957 - accuracy: 0.9701 - val_loss: 0.2464 - val_accuracy: 0.9275\n",
            "Epoch 41/100\n",
            "18/18 [==============================] - 0s 3ms/step - loss: 0.1813 - accuracy: 0.9772 - val_loss: 0.2446 - val_accuracy: 0.9348\n",
            "Epoch 42/100\n",
            "18/18 [==============================] - 0s 4ms/step - loss: 0.1751 - accuracy: 0.9789 - val_loss: 0.2433 - val_accuracy: 0.9348\n",
            "Epoch 43/100\n",
            "18/18 [==============================] - 0s 4ms/step - loss: 0.1598 - accuracy: 0.9812 - val_loss: 0.2435 - val_accuracy: 0.9348\n",
            "Epoch 44/100\n",
            "18/18 [==============================] - 0s 4ms/step - loss: 0.1769 - accuracy: 0.9717 - val_loss: 0.2385 - val_accuracy: 0.9348\n",
            "Epoch 45/100\n",
            "18/18 [==============================] - 0s 4ms/step - loss: 0.1662 - accuracy: 0.9795 - val_loss: 0.2371 - val_accuracy: 0.9420\n",
            "Epoch 46/100\n",
            "18/18 [==============================] - 0s 3ms/step - loss: 0.1755 - accuracy: 0.9709 - val_loss: 0.2412 - val_accuracy: 0.9348\n",
            "Epoch 47/100\n",
            "18/18 [==============================] - 0s 4ms/step - loss: 0.1623 - accuracy: 0.9798 - val_loss: 0.2420 - val_accuracy: 0.9348\n",
            "Epoch 48/100\n",
            "18/18 [==============================] - 0s 3ms/step - loss: 0.1724 - accuracy: 0.9679 - val_loss: 0.2412 - val_accuracy: 0.9348\n",
            "Epoch 49/100\n",
            "18/18 [==============================] - 0s 3ms/step - loss: 0.1517 - accuracy: 0.9816 - val_loss: 0.2372 - val_accuracy: 0.9420\n",
            "Epoch 50/100\n",
            "18/18 [==============================] - 0s 3ms/step - loss: 0.1547 - accuracy: 0.9762 - val_loss: 0.2498 - val_accuracy: 0.9348\n",
            "Epoch 51/100\n",
            "18/18 [==============================] - 0s 3ms/step - loss: 0.1529 - accuracy: 0.9729 - val_loss: 0.2389 - val_accuracy: 0.9348\n",
            "Epoch 52/100\n",
            "18/18 [==============================] - 0s 3ms/step - loss: 0.1411 - accuracy: 0.9814 - val_loss: 0.2456 - val_accuracy: 0.9348\n",
            "Epoch 53/100\n",
            "18/18 [==============================] - 0s 4ms/step - loss: 0.1522 - accuracy: 0.9784 - val_loss: 0.2374 - val_accuracy: 0.9348\n",
            "Epoch 54/100\n",
            "18/18 [==============================] - 0s 3ms/step - loss: 0.1410 - accuracy: 0.9832 - val_loss: 0.2366 - val_accuracy: 0.9348\n",
            "Epoch 55/100\n",
            "18/18 [==============================] - 0s 3ms/step - loss: 0.1617 - accuracy: 0.9778 - val_loss: 0.2358 - val_accuracy: 0.9348\n",
            "Epoch 56/100\n",
            "18/18 [==============================] - 0s 3ms/step - loss: 0.1659 - accuracy: 0.9707 - val_loss: 0.2474 - val_accuracy: 0.9348\n",
            "Epoch 57/100\n",
            "18/18 [==============================] - 0s 3ms/step - loss: 0.1650 - accuracy: 0.9657 - val_loss: 0.2362 - val_accuracy: 0.9348\n",
            "Epoch 58/100\n",
            "18/18 [==============================] - 0s 3ms/step - loss: 0.1580 - accuracy: 0.9764 - val_loss: 0.2383 - val_accuracy: 0.9348\n",
            "Epoch 59/100\n",
            "18/18 [==============================] - 0s 4ms/step - loss: 0.1565 - accuracy: 0.9805 - val_loss: 0.2377 - val_accuracy: 0.9348\n",
            "Epoch 60/100\n",
            "18/18 [==============================] - 0s 4ms/step - loss: 0.1650 - accuracy: 0.9779 - val_loss: 0.2472 - val_accuracy: 0.9348\n",
            "Epoch 61/100\n",
            "18/18 [==============================] - 0s 4ms/step - loss: 0.1332 - accuracy: 0.9842 - val_loss: 0.2399 - val_accuracy: 0.9348\n",
            "Epoch 62/100\n",
            "18/18 [==============================] - 0s 3ms/step - loss: 0.1454 - accuracy: 0.9841 - val_loss: 0.2401 - val_accuracy: 0.9348\n",
            "Epoch 63/100\n",
            "18/18 [==============================] - 0s 3ms/step - loss: 0.1635 - accuracy: 0.9704 - val_loss: 0.2396 - val_accuracy: 0.9348\n",
            "Epoch 64/100\n",
            "18/18 [==============================] - 0s 3ms/step - loss: 0.1340 - accuracy: 0.9815 - val_loss: 0.2434 - val_accuracy: 0.9348\n",
            "Epoch 65/100\n",
            "18/18 [==============================] - 0s 3ms/step - loss: 0.1168 - accuracy: 0.9910 - val_loss: 0.2391 - val_accuracy: 0.9348\n",
            "Epoch 66/100\n",
            "18/18 [==============================] - 0s 3ms/step - loss: 0.1302 - accuracy: 0.9855 - val_loss: 0.2376 - val_accuracy: 0.9348\n",
            "Epoch 67/100\n",
            "18/18 [==============================] - 0s 3ms/step - loss: 0.1504 - accuracy: 0.9780 - val_loss: 0.2399 - val_accuracy: 0.9348\n",
            "Epoch 68/100\n",
            "18/18 [==============================] - 0s 4ms/step - loss: 0.1495 - accuracy: 0.9830 - val_loss: 0.2376 - val_accuracy: 0.9348\n",
            "Epoch 69/100\n",
            "18/18 [==============================] - 0s 3ms/step - loss: 0.1462 - accuracy: 0.9828 - val_loss: 0.2391 - val_accuracy: 0.9420\n",
            "Epoch 70/100\n",
            "18/18 [==============================] - 0s 3ms/step - loss: 0.1780 - accuracy: 0.9707 - val_loss: 0.2425 - val_accuracy: 0.9348\n",
            "Epoch 71/100\n",
            "18/18 [==============================] - 0s 3ms/step - loss: 0.1422 - accuracy: 0.9808 - val_loss: 0.2396 - val_accuracy: 0.9348\n",
            "Epoch 72/100\n",
            "18/18 [==============================] - 0s 3ms/step - loss: 0.1453 - accuracy: 0.9781 - val_loss: 0.2363 - val_accuracy: 0.9348\n",
            "Epoch 73/100\n",
            "18/18 [==============================] - 0s 4ms/step - loss: 0.1468 - accuracy: 0.9783 - val_loss: 0.2367 - val_accuracy: 0.9348\n",
            "Epoch 74/100\n",
            "18/18 [==============================] - 0s 3ms/step - loss: 0.1214 - accuracy: 0.9883 - val_loss: 0.2357 - val_accuracy: 0.9348\n",
            "Epoch 75/100\n",
            "18/18 [==============================] - 0s 3ms/step - loss: 0.1382 - accuracy: 0.9789 - val_loss: 0.2369 - val_accuracy: 0.9348\n",
            "Epoch 76/100\n",
            "18/18 [==============================] - 0s 3ms/step - loss: 0.1532 - accuracy: 0.9755 - val_loss: 0.2346 - val_accuracy: 0.9348\n",
            "Epoch 77/100\n",
            "18/18 [==============================] - 0s 3ms/step - loss: 0.1284 - accuracy: 0.9850 - val_loss: 0.2343 - val_accuracy: 0.9348\n",
            "Epoch 78/100\n",
            "18/18 [==============================] - 0s 3ms/step - loss: 0.1781 - accuracy: 0.9600 - val_loss: 0.2356 - val_accuracy: 0.9348\n",
            "Epoch 79/100\n",
            "18/18 [==============================] - 0s 3ms/step - loss: 0.1342 - accuracy: 0.9760 - val_loss: 0.2341 - val_accuracy: 0.9348\n",
            "Epoch 80/100\n",
            "18/18 [==============================] - 0s 3ms/step - loss: 0.1603 - accuracy: 0.9710 - val_loss: 0.2438 - val_accuracy: 0.9348\n",
            "Epoch 81/100\n",
            "18/18 [==============================] - 0s 4ms/step - loss: 0.1308 - accuracy: 0.9806 - val_loss: 0.2412 - val_accuracy: 0.9348\n",
            "Epoch 82/100\n",
            "18/18 [==============================] - 0s 3ms/step - loss: 0.1612 - accuracy: 0.9697 - val_loss: 0.2368 - val_accuracy: 0.9348\n",
            "Epoch 83/100\n",
            "18/18 [==============================] - 0s 4ms/step - loss: 0.1328 - accuracy: 0.9807 - val_loss: 0.2379 - val_accuracy: 0.9348\n",
            "Epoch 84/100\n",
            "18/18 [==============================] - 0s 4ms/step - loss: 0.1219 - accuracy: 0.9832 - val_loss: 0.2383 - val_accuracy: 0.9493\n",
            "Epoch 85/100\n",
            "18/18 [==============================] - 0s 3ms/step - loss: 0.1390 - accuracy: 0.9750 - val_loss: 0.2350 - val_accuracy: 0.9348\n",
            "Epoch 86/100\n",
            "18/18 [==============================] - 0s 4ms/step - loss: 0.1394 - accuracy: 0.9790 - val_loss: 0.2343 - val_accuracy: 0.9493\n",
            "Epoch 87/100\n",
            "18/18 [==============================] - 0s 4ms/step - loss: 0.1584 - accuracy: 0.9733 - val_loss: 0.2336 - val_accuracy: 0.9420\n",
            "Epoch 88/100\n",
            "18/18 [==============================] - 0s 3ms/step - loss: 0.1304 - accuracy: 0.9850 - val_loss: 0.2415 - val_accuracy: 0.9493\n",
            "Epoch 89/100\n",
            "18/18 [==============================] - 0s 3ms/step - loss: 0.1232 - accuracy: 0.9853 - val_loss: 0.2353 - val_accuracy: 0.9493\n",
            "Epoch 90/100\n",
            "18/18 [==============================] - 0s 4ms/step - loss: 0.1391 - accuracy: 0.9775 - val_loss: 0.2360 - val_accuracy: 0.9348\n",
            "Epoch 91/100\n",
            "18/18 [==============================] - 0s 4ms/step - loss: 0.1510 - accuracy: 0.9722 - val_loss: 0.2376 - val_accuracy: 0.9493\n",
            "Epoch 92/100\n",
            "18/18 [==============================] - 0s 4ms/step - loss: 0.1281 - accuracy: 0.9796 - val_loss: 0.2374 - val_accuracy: 0.9493\n",
            "Epoch 93/100\n",
            "18/18 [==============================] - 0s 3ms/step - loss: 0.1290 - accuracy: 0.9810 - val_loss: 0.2371 - val_accuracy: 0.9493\n",
            "Epoch 94/100\n",
            "18/18 [==============================] - 0s 3ms/step - loss: 0.1409 - accuracy: 0.9788 - val_loss: 0.2367 - val_accuracy: 0.9493\n",
            "Epoch 95/100\n",
            "18/18 [==============================] - 0s 3ms/step - loss: 0.1337 - accuracy: 0.9803 - val_loss: 0.2429 - val_accuracy: 0.9420\n",
            "Epoch 96/100\n",
            "18/18 [==============================] - 0s 3ms/step - loss: 0.1417 - accuracy: 0.9769 - val_loss: 0.2386 - val_accuracy: 0.9493\n",
            "Epoch 97/100\n",
            "18/18 [==============================] - 0s 3ms/step - loss: 0.1084 - accuracy: 0.9870 - val_loss: 0.2382 - val_accuracy: 0.9493\n",
            "Epoch 98/100\n",
            "18/18 [==============================] - 0s 4ms/step - loss: 0.1454 - accuracy: 0.9770 - val_loss: 0.2448 - val_accuracy: 0.9348\n",
            "Epoch 99/100\n",
            "18/18 [==============================] - 0s 4ms/step - loss: 0.1341 - accuracy: 0.9704 - val_loss: 0.2403 - val_accuracy: 0.9493\n",
            "Epoch 100/100\n",
            "18/18 [==============================] - 0s 3ms/step - loss: 0.1245 - accuracy: 0.9839 - val_loss: 0.2395 - val_accuracy: 0.9493\n"
          ],
          "name": "stdout"
        }
      ]
    },
    {
      "cell_type": "code",
      "metadata": {
        "id": "qHDVECkGfv7X",
        "colab": {
          "base_uri": "https://localhost:8080/",
          "height": 281
        },
        "outputId": "8f1f42c7-4c1a-4321-dcd8-f38fcc9ed771"
      },
      "source": [
        "loss=history.history[\"loss\"]\n",
        "val_loss=history.history[\"val_loss\"]\n",
        "epochs=range(1, len(loss)+1)\n",
        "plt.plot(epochs, loss, \"bo\", label=\"Training Loss\")\n",
        "plt.plot(epochs, val_loss, \"b\", label=\"Validation Loss\")\n",
        "plt.xlabel(\"Epochs\")\n",
        "plt.ylabel(\"Loss\")\n",
        "plt.legend()\n",
        "plt.show()"
      ],
      "execution_count": 447,
      "outputs": [
        {
          "output_type": "display_data",
          "data": {
            "image/png": "[encoded data removed]",
            "text/plain": [
              "<Figure size 432x288 with 1 Axes>"
            ]
          },
          "metadata": {
            "tags": [],
            "needs_background": "light"
          }
        }
      ]
    },
    {
      "cell_type": "code",
      "metadata": {
        "colab": {
          "base_uri": "https://localhost:8080/",
          "height": 279
        },
        "id": "4QeuRcUVf9r1",
        "outputId": "dacee427-bb60-49f2-b783-2d9220a30217"
      },
      "source": [
        "acc=history.history[\"accuracy\"]\n",
        "val_acc=history.history[\"val_accuracy\"]\n",
        "epochs=range(1, len(acc)+1)\n",
        "plt.plot(epochs[10:], acc[10:], \"bo\", label=\"Training Accuracy\")\n",
        "plt.plot(epochs[10:], val_acc[10:], \"b\", label=\"Validation Accuracy\")\n",
        "plt.xlabel(\"Epochs\")\n",
        "plt.ylabel(\"Accuracy\")\n",
        "plt.legend()\n",
        "plt.show()"
      ],
      "execution_count": 448,
      "outputs": [
        {
          "output_type": "display_data",
          "data": {
            "image/png": "[encoded data removed]",
            "text/plain": [
              "<Figure size 432x288 with 1 Axes>"
            ]
          },
          "metadata": {
            "tags": [],
            "needs_background": "light"
          }
        }
      ]
    },
    {
      "cell_type": "markdown",
      "metadata": {
        "id": "ZqOIE7ZV5gmr"
      },
      "source": [
        "**Rebuilding the best fit Model**"
      ]
    },
    {
      "cell_type": "code",
      "metadata": {
        "id": "Olb6pJ0c5eHN"
      },
      "source": [
        "from keras import regularizers\n",
        "model= models.Sequential()\n",
        "model.add(layers.Dense(10, kernel_regularizer=regularizers.l1_l2(l1=0.001, l2=0.001), activation=\"relu\", input_shape=(train_data.shape[1],)))\n",
        "\n",
        "model.add(layers.Dense(10, kernel_regularizer=regularizers.l1_l2(l1=0.001, l2=0.001), activation=\"relu\"))\n",
        "\n",
        "model.add(layers.Dense(8,kernel_regularizer=regularizers.l1_l2(l1=0.001, l2=0.001), activation=\"relu\"))\n",
        "\n",
        "model.add(layers.Dense(6,kernel_regularizer=regularizers.l1_l2(l1=0.001, l2=0.001), activation=\"relu\"))\n",
        "\n",
        "model.add(layers.Dense(1,activation=\"sigmoid\"))\n",
        "\n",
        "model.compile(optimizer=\"rmsprop\", loss=\"binary_crossentropy\", metrics=[\"accuracy\"])"
      ],
      "execution_count": 449,
      "outputs": []
    },
    {
      "cell_type": "markdown",
      "metadata": {
        "id": "byDohJUJ57ZC"
      },
      "source": [
        "**Training the model with all samples**"
      ]
    },
    {
      "cell_type": "code",
      "metadata": {
        "colab": {
          "base_uri": "https://localhost:8080/"
        },
        "id": "t7ArlmnZ5u1Y",
        "outputId": "5086dcae-a7b1-429f-834e-1e32ca10aafa"
      },
      "source": [
        "model.fit(train_data, train_labels, epochs=100)"
      ],
      "execution_count": 450,
      "outputs": [
        {
          "output_type": "stream",
          "text": [
            "Epoch 1/100\n",
            "22/22 [==============================] - 1s 1ms/step - loss: 0.9302 - accuracy: 0.5011\n",
            "Epoch 2/100\n",
            "22/22 [==============================] - 0s 2ms/step - loss: 0.8071 - accuracy: 0.5314\n",
            "Epoch 3/100\n",
            "22/22 [==============================] - 0s 1ms/step - loss: 0.7178 - accuracy: 0.8413\n",
            "Epoch 4/100\n",
            "22/22 [==============================] - 0s 1ms/step - loss: 0.6654 - accuracy: 0.8961\n",
            "Epoch 5/100\n",
            "22/22 [==============================] - 0s 1ms/step - loss: 0.5885 - accuracy: 0.9109\n",
            "Epoch 6/100\n",
            "22/22 [==============================] - 0s 1ms/step - loss: 0.5080 - accuracy: 0.9288\n",
            "Epoch 7/100\n",
            "22/22 [==============================] - 0s 1ms/step - loss: 0.4553 - accuracy: 0.9226\n",
            "Epoch 8/100\n",
            "22/22 [==============================] - 0s 1ms/step - loss: 0.3946 - accuracy: 0.9361\n",
            "Epoch 9/100\n",
            "22/22 [==============================] - 0s 1ms/step - loss: 0.3742 - accuracy: 0.9323\n",
            "Epoch 10/100\n",
            "22/22 [==============================] - 0s 1ms/step - loss: 0.3507 - accuracy: 0.9402\n",
            "Epoch 11/100\n",
            "22/22 [==============================] - 0s 1ms/step - loss: 0.3217 - accuracy: 0.9518\n",
            "Epoch 12/100\n",
            "22/22 [==============================] - 0s 1ms/step - loss: 0.3096 - accuracy: 0.9525\n",
            "Epoch 13/100\n",
            "22/22 [==============================] - 0s 1ms/step - loss: 0.3146 - accuracy: 0.9468\n",
            "Epoch 14/100\n",
            "22/22 [==============================] - 0s 1ms/step - loss: 0.2934 - accuracy: 0.9515\n",
            "Epoch 15/100\n",
            "22/22 [==============================] - 0s 1ms/step - loss: 0.2819 - accuracy: 0.9599\n",
            "Epoch 16/100\n",
            "22/22 [==============================] - 0s 1ms/step - loss: 0.2993 - accuracy: 0.9416\n",
            "Epoch 17/100\n",
            "22/22 [==============================] - 0s 1ms/step - loss: 0.2832 - accuracy: 0.9577\n",
            "Epoch 18/100\n",
            "22/22 [==============================] - 0s 1ms/step - loss: 0.2555 - accuracy: 0.9644\n",
            "Epoch 19/100\n",
            "22/22 [==============================] - 0s 1ms/step - loss: 0.2614 - accuracy: 0.9523\n",
            "Epoch 20/100\n",
            "22/22 [==============================] - 0s 1ms/step - loss: 0.2507 - accuracy: 0.9649\n",
            "Epoch 21/100\n",
            "22/22 [==============================] - 0s 1ms/step - loss: 0.2494 - accuracy: 0.9499\n",
            "Epoch 22/100\n",
            "22/22 [==============================] - 0s 1ms/step - loss: 0.2201 - accuracy: 0.9735\n",
            "Epoch 23/100\n",
            "22/22 [==============================] - 0s 1ms/step - loss: 0.2232 - accuracy: 0.9675\n",
            "Epoch 24/100\n",
            "22/22 [==============================] - 0s 1ms/step - loss: 0.2300 - accuracy: 0.9665\n",
            "Epoch 25/100\n",
            "22/22 [==============================] - 0s 1ms/step - loss: 0.2223 - accuracy: 0.9755\n",
            "Epoch 26/100\n",
            "22/22 [==============================] - 0s 1ms/step - loss: 0.2396 - accuracy: 0.9589\n",
            "Epoch 27/100\n",
            "22/22 [==============================] - 0s 1ms/step - loss: 0.2423 - accuracy: 0.9689\n",
            "Epoch 28/100\n",
            "22/22 [==============================] - 0s 1ms/step - loss: 0.2234 - accuracy: 0.9689\n",
            "Epoch 29/100\n",
            "22/22 [==============================] - 0s 1ms/step - loss: 0.2137 - accuracy: 0.9753\n",
            "Epoch 30/100\n",
            "22/22 [==============================] - 0s 1ms/step - loss: 0.2093 - accuracy: 0.9741\n",
            "Epoch 31/100\n",
            "22/22 [==============================] - 0s 1ms/step - loss: 0.2164 - accuracy: 0.9694\n",
            "Epoch 32/100\n",
            "22/22 [==============================] - 0s 1ms/step - loss: 0.2377 - accuracy: 0.9611\n",
            "Epoch 33/100\n",
            "22/22 [==============================] - 0s 1ms/step - loss: 0.2134 - accuracy: 0.9738\n",
            "Epoch 34/100\n",
            "22/22 [==============================] - 0s 1ms/step - loss: 0.2263 - accuracy: 0.9609\n",
            "Epoch 35/100\n",
            "22/22 [==============================] - 0s 1ms/step - loss: 0.1970 - accuracy: 0.9779\n",
            "Epoch 36/100\n",
            "22/22 [==============================] - 0s 1ms/step - loss: 0.1985 - accuracy: 0.9760\n",
            "Epoch 37/100\n",
            "22/22 [==============================] - 0s 1ms/step - loss: 0.2217 - accuracy: 0.9716\n",
            "Epoch 38/100\n",
            "22/22 [==============================] - 0s 2ms/step - loss: 0.1965 - accuracy: 0.9772\n",
            "Epoch 39/100\n",
            "22/22 [==============================] - 0s 1ms/step - loss: 0.2104 - accuracy: 0.9685\n",
            "Epoch 40/100\n",
            "22/22 [==============================] - 0s 1ms/step - loss: 0.2116 - accuracy: 0.9757\n",
            "Epoch 41/100\n",
            "22/22 [==============================] - 0s 1ms/step - loss: 0.1921 - accuracy: 0.9779\n",
            "Epoch 42/100\n",
            "22/22 [==============================] - 0s 1ms/step - loss: 0.1954 - accuracy: 0.9738\n",
            "Epoch 43/100\n",
            "22/22 [==============================] - 0s 1ms/step - loss: 0.2036 - accuracy: 0.9740\n",
            "Epoch 44/100\n",
            "22/22 [==============================] - 0s 1ms/step - loss: 0.2222 - accuracy: 0.9655\n",
            "Epoch 45/100\n",
            "22/22 [==============================] - 0s 1ms/step - loss: 0.2040 - accuracy: 0.9735\n",
            "Epoch 46/100\n",
            "22/22 [==============================] - 0s 1ms/step - loss: 0.2054 - accuracy: 0.9753\n",
            "Epoch 47/100\n",
            "22/22 [==============================] - 0s 1ms/step - loss: 0.1948 - accuracy: 0.9740\n",
            "Epoch 48/100\n",
            "22/22 [==============================] - 0s 1ms/step - loss: 0.1852 - accuracy: 0.9794\n",
            "Epoch 49/100\n",
            "22/22 [==============================] - 0s 1ms/step - loss: 0.1907 - accuracy: 0.9748\n",
            "Epoch 50/100\n",
            "22/22 [==============================] - 0s 1ms/step - loss: 0.1752 - accuracy: 0.9800\n",
            "Epoch 51/100\n",
            "22/22 [==============================] - 0s 1ms/step - loss: 0.1777 - accuracy: 0.9745\n",
            "Epoch 52/100\n",
            "22/22 [==============================] - 0s 1ms/step - loss: 0.1824 - accuracy: 0.9760\n",
            "Epoch 53/100\n",
            "22/22 [==============================] - 0s 1ms/step - loss: 0.1821 - accuracy: 0.9768\n",
            "Epoch 54/100\n",
            "22/22 [==============================] - 0s 1ms/step - loss: 0.1634 - accuracy: 0.9835\n",
            "Epoch 55/100\n",
            "22/22 [==============================] - 0s 1ms/step - loss: 0.1975 - accuracy: 0.9605\n",
            "Epoch 56/100\n",
            "22/22 [==============================] - 0s 1ms/step - loss: 0.1788 - accuracy: 0.9754\n",
            "Epoch 57/100\n",
            "22/22 [==============================] - 0s 1ms/step - loss: 0.1864 - accuracy: 0.9750\n",
            "Epoch 58/100\n",
            "22/22 [==============================] - 0s 1ms/step - loss: 0.1641 - accuracy: 0.9830\n",
            "Epoch 59/100\n",
            "22/22 [==============================] - 0s 1ms/step - loss: 0.1795 - accuracy: 0.9759\n",
            "Epoch 60/100\n",
            "22/22 [==============================] - 0s 1ms/step - loss: 0.1803 - accuracy: 0.9696\n",
            "Epoch 61/100\n",
            "22/22 [==============================] - 0s 1ms/step - loss: 0.1634 - accuracy: 0.9794\n",
            "Epoch 62/100\n",
            "22/22 [==============================] - 0s 1ms/step - loss: 0.1671 - accuracy: 0.9811\n",
            "Epoch 63/100\n",
            "22/22 [==============================] - 0s 1ms/step - loss: 0.1632 - accuracy: 0.9791\n",
            "Epoch 64/100\n",
            "22/22 [==============================] - 0s 2ms/step - loss: 0.1723 - accuracy: 0.9747\n",
            "Epoch 65/100\n",
            "22/22 [==============================] - 0s 1ms/step - loss: 0.1546 - accuracy: 0.9868\n",
            "Epoch 66/100\n",
            "22/22 [==============================] - 0s 1ms/step - loss: 0.1650 - accuracy: 0.9788\n",
            "Epoch 67/100\n",
            "22/22 [==============================] - 0s 1ms/step - loss: 0.1658 - accuracy: 0.9804\n",
            "Epoch 68/100\n",
            "22/22 [==============================] - 0s 1ms/step - loss: 0.1638 - accuracy: 0.9787\n",
            "Epoch 69/100\n",
            "22/22 [==============================] - 0s 2ms/step - loss: 0.1666 - accuracy: 0.9764\n",
            "Epoch 70/100\n",
            "22/22 [==============================] - 0s 1ms/step - loss: 0.1682 - accuracy: 0.9782\n",
            "Epoch 71/100\n",
            "22/22 [==============================] - 0s 1ms/step - loss: 0.1815 - accuracy: 0.9757\n",
            "Epoch 72/100\n",
            "22/22 [==============================] - 0s 1ms/step - loss: 0.1550 - accuracy: 0.9869\n",
            "Epoch 73/100\n",
            "22/22 [==============================] - 0s 1ms/step - loss: 0.1523 - accuracy: 0.9875\n",
            "Epoch 74/100\n",
            "22/22 [==============================] - 0s 1ms/step - loss: 0.1700 - accuracy: 0.9727\n",
            "Epoch 75/100\n",
            "22/22 [==============================] - 0s 1ms/step - loss: 0.1524 - accuracy: 0.9840\n",
            "Epoch 76/100\n",
            "22/22 [==============================] - 0s 1ms/step - loss: 0.1504 - accuracy: 0.9816\n",
            "Epoch 77/100\n",
            "22/22 [==============================] - 0s 1ms/step - loss: 0.1710 - accuracy: 0.9732\n",
            "Epoch 78/100\n",
            "22/22 [==============================] - 0s 1ms/step - loss: 0.1536 - accuracy: 0.9794\n",
            "Epoch 79/100\n",
            "22/22 [==============================] - 0s 2ms/step - loss: 0.1496 - accuracy: 0.9799\n",
            "Epoch 80/100\n",
            "22/22 [==============================] - 0s 1ms/step - loss: 0.1667 - accuracy: 0.9738\n",
            "Epoch 81/100\n",
            "22/22 [==============================] - 0s 1ms/step - loss: 0.1430 - accuracy: 0.9872\n",
            "Epoch 82/100\n",
            "22/22 [==============================] - 0s 1ms/step - loss: 0.1378 - accuracy: 0.9889\n",
            "Epoch 83/100\n",
            "22/22 [==============================] - 0s 1ms/step - loss: 0.1571 - accuracy: 0.9756\n",
            "Epoch 84/100\n",
            "22/22 [==============================] - 0s 1ms/step - loss: 0.1576 - accuracy: 0.9821\n",
            "Epoch 85/100\n",
            "22/22 [==============================] - 0s 1ms/step - loss: 0.1789 - accuracy: 0.9579\n",
            "Epoch 86/100\n",
            "22/22 [==============================] - 0s 1ms/step - loss: 0.1426 - accuracy: 0.9860\n",
            "Epoch 87/100\n",
            "22/22 [==============================] - 0s 1ms/step - loss: 0.1481 - accuracy: 0.9852\n",
            "Epoch 88/100\n",
            "22/22 [==============================] - 0s 1ms/step - loss: 0.1587 - accuracy: 0.9750\n",
            "Epoch 89/100\n",
            "22/22 [==============================] - 0s 1ms/step - loss: 0.1487 - accuracy: 0.9773\n",
            "Epoch 90/100\n",
            "22/22 [==============================] - 0s 1ms/step - loss: 0.1451 - accuracy: 0.9857\n",
            "Epoch 91/100\n",
            "22/22 [==============================] - 0s 1ms/step - loss: 0.1500 - accuracy: 0.9837\n",
            "Epoch 92/100\n",
            "22/22 [==============================] - 0s 1ms/step - loss: 0.1616 - accuracy: 0.9794\n",
            "Epoch 93/100\n",
            "22/22 [==============================] - 0s 1ms/step - loss: 0.1645 - accuracy: 0.9733\n",
            "Epoch 94/100\n",
            "22/22 [==============================] - 0s 1ms/step - loss: 0.1394 - accuracy: 0.9840\n",
            "Epoch 95/100\n",
            "22/22 [==============================] - 0s 1ms/step - loss: 0.1460 - accuracy: 0.9830\n",
            "Epoch 96/100\n",
            "22/22 [==============================] - 0s 1ms/step - loss: 0.1475 - accuracy: 0.9793\n",
            "Epoch 97/100\n",
            "22/22 [==============================] - 0s 2ms/step - loss: 0.1425 - accuracy: 0.9832\n",
            "Epoch 98/100\n",
            "22/22 [==============================] - 0s 2ms/step - loss: 0.1438 - accuracy: 0.9811\n",
            "Epoch 99/100\n",
            "22/22 [==============================] - 0s 2ms/step - loss: 0.1603 - accuracy: 0.9735\n",
            "Epoch 100/100\n",
            "22/22 [==============================] - 0s 1ms/step - loss: 0.1470 - accuracy: 0.9853\n"
          ],
          "name": "stdout"
        },
        {
          "output_type": "execute_result",
          "data": {
            "text/plain": [
              "<tensorflow.python.keras.callbacks.History at 0x7f590dfcc810>"
            ]
          },
          "metadata": {
            "tags": []
          },
          "execution_count": 450
        }
      ]
    },
    {
      "cell_type": "markdown",
      "metadata": {
        "id": "Dce-459igfpL"
      },
      "source": [
        "**Evaluating the Network**"
      ]
    },
    {
      "cell_type": "code",
      "metadata": {
        "colab": {
          "base_uri": "https://localhost:8080/"
        },
        "id": "StnRq2ahghL3",
        "outputId": "307a8bec-8607-49a0-db73-0cf7cd62f402"
      },
      "source": [
        "test_loss_score, test_acc_score=model.evaluate(test_data, test_labels)"
      ],
      "execution_count": 451,
      "outputs": [
        {
          "output_type": "stream",
          "text": [
            "10/10 [==============================] - 0s 1ms/step - loss: 0.3504 - accuracy: 0.9223\n"
          ],
          "name": "stdout"
        }
      ]
    },
    {
      "cell_type": "code",
      "metadata": {
        "colab": {
          "base_uri": "https://localhost:8080/"
        },
        "id": "YHZhGjD02dN4",
        "outputId": "f091b95d-518d-43d6-de44-ff7e8b191142"
      },
      "source": [
        "test_acc_score *100"
      ],
      "execution_count": 452,
      "outputs": [
        {
          "output_type": "execute_result",
          "data": {
            "text/plain": [
              "92.22972989082336"
            ]
          },
          "metadata": {
            "tags": []
          },
          "execution_count": 452
        }
      ]
    },
    {
      "cell_type": "markdown",
      "metadata": {
        "id": "X4PJkc9rhBnI"
      },
      "source": [
        "**Predicting the values**"
      ]
    },
    {
      "cell_type": "code",
      "metadata": {
        "id": "ar4XTcgrhDpi",
        "colab": {
          "base_uri": "https://localhost:8080/"
        },
        "outputId": "e56d9ee3-4081-4e4b-bba3-38a50a8f40fa"
      },
      "source": [
        "prediction=model.predict(test_data) #astype(dtype=\"u8\")\n",
        "pred_norm =np.where(prediction>.5, 1, 0)\n",
        "\n",
        "pred_norm[:10].T"
      ],
      "execution_count": 453,
      "outputs": [
        {
          "output_type": "execute_result",
          "data": {
            "text/plain": [
              "array([[0, 0, 1, 0, 1, 0, 1, 0, 0, 1]])"
            ]
          },
          "metadata": {
            "tags": []
          },
          "execution_count": 453
        }
      ]
    },
    {
      "cell_type": "code",
      "metadata": {
        "colab": {
          "base_uri": "https://localhost:8080/"
        },
        "id": "bRV-33bTcGnj",
        "outputId": "067f5f79-8d92-44a8-b719-c0eac746fa7f"
      },
      "source": [
        "prediction[:10].T"
      ],
      "execution_count": 454,
      "outputs": [
        {
          "output_type": "execute_result",
          "data": {
            "text/plain": [
              "array([[0.00581419, 0.03836805, 0.99995005, 0.03999978, 1.        ,\n",
              "        0.02734616, 0.99957526, 0.003894  , 0.01154298, 0.99976945]],\n",
              "      dtype=float32)"
            ]
          },
          "metadata": {
            "tags": []
          },
          "execution_count": 454
        }
      ]
    },
    {
      "cell_type": "code",
      "metadata": {
        "colab": {
          "base_uri": "https://localhost:8080/"
        },
        "id": "JXLs5o3BhHBm",
        "outputId": "2fc9009a-0461-4b35-be57-b3b3f3dbbe5b"
      },
      "source": [
        "test_labels[:].astype(dtype=\"int\")"
      ],
      "execution_count": 455,
      "outputs": [
        {
          "output_type": "execute_result",
          "data": {
            "text/plain": [
              "array([0, 0, 1, 0, 1, 0, 1, 0, 0, 1, 0, 0, 1, 1, 1, 1, 1, 0, 1, 1, 1, 0,\n",
              "       1, 0, 0, 0, 0, 1, 0, 0, 1, 1, 0, 0, 0, 0, 0, 1, 0, 1, 0, 1, 0, 1,\n",
              "       1, 0, 1, 0, 1, 1, 1, 1, 1, 1, 0, 0, 0, 0, 1, 1, 1, 0, 0, 0, 0, 1,\n",
              "       0, 1, 0, 1, 0, 1, 1, 0, 0, 1, 1, 0, 1, 1, 1, 0, 1, 1, 1, 0, 1, 1,\n",
              "       1, 0, 1, 1, 1, 0, 1, 1, 1, 1, 1, 0, 1, 0, 1, 1, 0, 0, 1, 1, 0, 1,\n",
              "       1, 1, 0, 0, 1, 0, 1, 1, 1, 1, 1, 1, 0, 0, 0, 1, 1, 1, 0, 1, 1, 1,\n",
              "       0, 1, 0, 0, 0, 0, 0, 0, 1, 1, 1, 0, 0, 1, 1, 1, 0, 0, 0, 0, 0, 1,\n",
              "       1, 0, 0, 0, 0, 0, 0, 0, 0, 1, 0, 0, 1, 1, 0, 1, 1, 1, 1, 1, 1, 0,\n",
              "       1, 0, 0, 1, 0, 1, 0, 0, 1, 1, 0, 0, 1, 0, 0, 1, 1, 1, 1, 1, 1, 1,\n",
              "       0, 0, 1, 1, 0, 0, 0, 1, 1, 1, 0, 1, 0, 0, 1, 0, 0, 0, 0, 0, 1, 0,\n",
              "       0, 0, 1, 0, 1, 0, 1, 0, 0, 0, 0, 1, 1, 1, 0, 1, 0, 0, 1, 1, 1, 1,\n",
              "       1, 0, 1, 0, 0, 0, 0, 1, 0, 1, 1, 1, 0, 0, 0, 0, 0, 1, 1, 1, 0, 1,\n",
              "       1, 1, 0, 0, 1, 1, 0, 1, 0, 0, 0, 0, 1, 0, 0, 0, 0, 0, 1, 0, 0, 1,\n",
              "       0, 1, 0, 1, 1, 0, 0, 0, 0, 1])"
            ]
          },
          "metadata": {
            "tags": []
          },
          "execution_count": 455
        }
      ]
    },
    {
      "cell_type": "code",
      "metadata": {
        "id": "F9srhXkIkmOl"
      },
      "source": [
        "pred_check =pred_norm[:].T.astype(dtype=\"int\")"
      ],
      "execution_count": 456,
      "outputs": []
    },
    {
      "cell_type": "code",
      "metadata": {
        "colab": {
          "base_uri": "https://localhost:8080/"
        },
        "id": "G5ZTbC1khk5k",
        "outputId": "bf7baeef-752d-46b8-c50a-78c0f0572591"
      },
      "source": [
        "c = pred_check.size\n",
        "pred_check"
      ],
      "execution_count": 457,
      "outputs": [
        {
          "output_type": "execute_result",
          "data": {
            "text/plain": [
              "array([[0, 0, 1, 0, 1, 0, 1, 0, 0, 1, 0, 0, 1, 0, 1, 1, 1, 0, 1, 1, 1, 0,\n",
              "        1, 1, 0, 0, 0, 1, 0, 0, 1, 1, 0, 0, 0, 0, 0, 1, 1, 1, 0, 1, 0, 1,\n",
              "        1, 1, 1, 0, 1, 1, 1, 1, 1, 1, 0, 0, 0, 0, 1, 1, 1, 0, 0, 0, 0, 1,\n",
              "        0, 1, 0, 1, 0, 1, 1, 0, 0, 1, 1, 0, 0, 1, 1, 0, 1, 1, 1, 0, 1, 1,\n",
              "        1, 0, 1, 1, 1, 0, 1, 1, 0, 1, 1, 0, 1, 0, 1, 1, 0, 0, 1, 1, 0, 1,\n",
              "        1, 1, 0, 0, 1, 0, 1, 0, 1, 0, 1, 1, 0, 0, 0, 1, 1, 1, 0, 1, 0, 1,\n",
              "        0, 1, 0, 0, 0, 0, 0, 0, 1, 0, 1, 0, 0, 1, 1, 1, 0, 0, 0, 0, 0, 1,\n",
              "        1, 0, 0, 0, 0, 0, 0, 0, 0, 1, 0, 0, 0, 0, 0, 1, 1, 1, 1, 1, 1, 0,\n",
              "        1, 0, 0, 1, 0, 1, 0, 0, 1, 1, 0, 0, 1, 0, 0, 1, 1, 1, 1, 1, 1, 1,\n",
              "        0, 0, 1, 1, 0, 0, 0, 1, 1, 1, 1, 0, 0, 0, 1, 0, 0, 0, 0, 0, 1, 0,\n",
              "        0, 0, 1, 0, 1, 0, 1, 0, 0, 0, 0, 1, 1, 1, 0, 1, 0, 0, 0, 1, 0, 1,\n",
              "        1, 0, 1, 0, 0, 0, 0, 1, 0, 1, 1, 1, 0, 0, 0, 0, 0, 1, 0, 1, 1, 1,\n",
              "        1, 1, 0, 0, 1, 1, 1, 1, 0, 0, 0, 0, 0, 0, 0, 1, 0, 0, 1, 0, 0, 0,\n",
              "        0, 1, 0, 1, 1, 0, 1, 0, 0, 1]])"
            ]
          },
          "metadata": {
            "tags": []
          },
          "execution_count": 457
        }
      ]
    },
    {
      "cell_type": "code",
      "metadata": {
        "id": "ST4zlthJhoEu"
      },
      "source": [
        "comapre_pred_test = test_labels == pred_check"
      ],
      "execution_count": 458,
      "outputs": []
    },
    {
      "cell_type": "code",
      "metadata": {
        "colab": {
          "base_uri": "https://localhost:8080/"
        },
        "id": "0-bm2f7Lh141",
        "outputId": "0085407b-777a-4887-db3f-76ee40e04f72"
      },
      "source": [
        "a = comapre_pred_test[comapre_pred_test[:]== False].size\n",
        "a"
      ],
      "execution_count": 459,
      "outputs": [
        {
          "output_type": "execute_result",
          "data": {
            "text/plain": [
              "23"
            ]
          },
          "metadata": {
            "tags": []
          },
          "execution_count": 459
        }
      ]
    },
    {
      "cell_type": "code",
      "metadata": {
        "colab": {
          "base_uri": "https://localhost:8080/"
        },
        "id": "_PNULlcph4n9",
        "outputId": "69ddccc0-2c6f-4d51-96eb-e24994860824"
      },
      "source": [
        "b = comapre_pred_test[comapre_pred_test[:]==True].size\n",
        "b"
      ],
      "execution_count": 460,
      "outputs": [
        {
          "output_type": "execute_result",
          "data": {
            "text/plain": [
              "273"
            ]
          },
          "metadata": {
            "tags": []
          },
          "execution_count": 460
        }
      ]
    },
    {
      "cell_type": "code",
      "metadata": {
        "colab": {
          "base_uri": "https://localhost:8080/"
        },
        "id": "-FGuqz4SihP9",
        "outputId": "dafd3a69-b1ab-4cb2-90f5-a474fba19ab8"
      },
      "source": [
        "print(\"Incorrect Predictions are:\", a, \"and Correct predictions are :\", b, \" the percentage is:\", round((b/c)*100,2), \"%\"  )"
      ],
      "execution_count": 461,
      "outputs": [
        {
          "output_type": "stream",
          "text": [
            "Incorrect Predictions are: 23 and Correct predictions are : 273  the percentage is: 92.23 %\n"
          ],
          "name": "stdout"
        }
      ]
    },
    {
      "cell_type": "code",
      "metadata": {
        "id": "KDSwwgTJjjPr"
      },
      "source": [
        ""
      ],
      "execution_count": 461,
      "outputs": []
    }
  ]
}