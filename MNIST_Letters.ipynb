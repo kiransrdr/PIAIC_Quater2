{
  "nbformat": 4,
  "nbformat_minor": 0,
  "metadata": {
    "colab": {
      "name": "MNIST-Letters.ipynb",
      "provenance": []
    },
    "kernelspec": {
      "name": "python3",
      "display_name": "Python 3"
    }
  },
  "cells": [
    {
      "cell_type": "markdown",
      "metadata": {
        "id": "_NVmenfR03IH"
      },
      "source": [
        "### **List 2.1 Loading the MNIST dataset in Keras**"
      ]
    },
    {
      "cell_type": "code",
      "metadata": {
        "id": "3MoKT93N0r1w"
      },
      "source": [
        "from tensorflow. keras.datasets import mnist\r\n",
        "(train_images , train_labels), (test_images, test_labels) = mnist.load_data()"
      ],
      "execution_count": 1,
      "outputs": []
    },
    {
      "cell_type": "code",
      "metadata": {
        "colab": {
          "base_uri": "https://localhost:8080/"
        },
        "id": "kL-m69xo1b60",
        "outputId": "aa99ca58-9e32-4532-edea-c9c9cb198337"
      },
      "source": [
        "print(len(train_images))\r\n",
        "print(len(train_labels))"
      ],
      "execution_count": 2,
      "outputs": [
        {
          "output_type": "stream",
          "text": [
            "60000\n",
            "60000\n"
          ],
          "name": "stdout"
        }
      ]
    },
    {
      "cell_type": "code",
      "metadata": {
        "colab": {
          "base_uri": "https://localhost:8080/"
        },
        "id": "kkunrLvQ11fi",
        "outputId": "f06d0848-a6e4-4949-83b9-25df6f471e59"
      },
      "source": [
        "print(len(test_images))\r\n",
        "print(len(test_labels))"
      ],
      "execution_count": 3,
      "outputs": [
        {
          "output_type": "stream",
          "text": [
            "10000\n",
            "10000\n"
          ],
          "name": "stdout"
        }
      ]
    },
    {
      "cell_type": "code",
      "metadata": {
        "colab": {
          "base_uri": "https://localhost:8080/"
        },
        "id": "n2LnOJzn1-gG",
        "outputId": "2c7c3a12-42a6-4ef1-b760-c47e22ee23b7"
      },
      "source": [
        "print(train_images.shape)\r\n",
        "print(test_images.shape)"
      ],
      "execution_count": 4,
      "outputs": [
        {
          "output_type": "stream",
          "text": [
            "(60000, 28, 28)\n",
            "(10000, 28, 28)\n"
          ],
          "name": "stdout"
        }
      ]
    },
    {
      "cell_type": "code",
      "metadata": {
        "colab": {
          "base_uri": "https://localhost:8080/",
          "height": 282
        },
        "id": "ES9fovKv2UJb",
        "outputId": "73ae5998-adf1-4de5-95cf-14b76f0bbe5b"
      },
      "source": [
        "import matplotlib.pyplot as plt\r\n",
        "digit = test_images[77]\r\n",
        "print(\"Clasee Label:\", test_labels[77])\r\n",
        "plt.imshow(digit, cmap=plt.cm.binary)\r\n",
        "plt.show() "
      ],
      "execution_count": 5,
      "outputs": [
        {
          "output_type": "stream",
          "text": [
            "Clasee Label: 2\n"
          ],
          "name": "stdout"
        },
        {
          "output_type": "display_data",
          "data": {
            "image/png": "[encoded data removed]",
            "text/plain": [
              "<Figure size 432x288 with 1 Axes>"
            ]
          },
          "metadata": {
            "tags": [],
            "needs_background": "light"
          }
        }
      ]
    },
    {
      "cell_type": "code",
      "metadata": {
        "colab": {
          "base_uri": "https://localhost:8080/"
        },
        "id": "iO2Han6G3J9h",
        "outputId": "b4d6206d-cc96-4a99-99a8-de768944464a"
      },
      "source": [
        "import numpy as np\r\n",
        "print(train_labels)\r\n",
        "print(np.unique(train_labels))\r\n",
        "print(len(np.unique(train_labels)))"
      ],
      "execution_count": 6,
      "outputs": [
        {
          "output_type": "stream",
          "text": [
            "[5 0 4 ... 5 6 8]\n",
            "[0 1 2 3 4 5 6 7 8 9]\n",
            "10\n"
          ],
          "name": "stdout"
        }
      ]
    },
    {
      "cell_type": "code",
      "metadata": {
        "colab": {
          "base_uri": "https://localhost:8080/"
        },
        "id": "ax2Lcsln3zUT",
        "outputId": "0f18d3c8-cae0-470f-83ea-89242a780c75"
      },
      "source": [
        "print(test_labels)\r\n",
        "print(np.unique(test_labels))\r\n",
        "print(len(np.unique(test_labels)))"
      ],
      "execution_count": 7,
      "outputs": [
        {
          "output_type": "stream",
          "text": [
            "[7 2 1 ... 4 5 6]\n",
            "[0 1 2 3 4 5 6 7 8 9]\n",
            "10\n"
          ],
          "name": "stdout"
        }
      ]
    },
    {
      "cell_type": "markdown",
      "metadata": {
        "id": "ZC5EJH334YZR"
      },
      "source": [
        "# **Listing 2.2 The Network Architecture**"
      ]
    },
    {
      "cell_type": "code",
      "metadata": {
        "id": "VKKVH2yQ4iR0"
      },
      "source": [
        "from tensorflow.keras import models\r\n",
        "from tensorflow.keras import layers\r\n",
        "\r\n",
        "network = models.Sequential()\r\n",
        "\r\n",
        "network.add (layers.Dense(512, activation=\"relu\", input_shape=(28*28,)))\r\n",
        "network.add(layers.Dense (10, activation=\"softmax\"))\r\n"
      ],
      "execution_count": 8,
      "outputs": []
    },
    {
      "cell_type": "markdown",
      "metadata": {
        "id": "x39F92Yu67E0"
      },
      "source": [
        "## **Listing 2.3 The Compilation Step**"
      ]
    },
    {
      "cell_type": "code",
      "metadata": {
        "id": "BHGwLnIn7Hsh"
      },
      "source": [
        "network.compile(optimizer=\"rmsprop\",\r\n",
        "                loss = \"categorical_crossentropy\",\r\n",
        "                metrics=[\"accuracy\"])"
      ],
      "execution_count": 9,
      "outputs": []
    },
    {
      "cell_type": "code",
      "metadata": {
        "colab": {
          "base_uri": "https://localhost:8080/"
        },
        "id": "n5N9QCTn71At",
        "outputId": "4c850883-2df4-4a76-e586-8e7069af2c5d"
      },
      "source": [
        "train_images.ndim"
      ],
      "execution_count": 10,
      "outputs": [
        {
          "output_type": "execute_result",
          "data": {
            "text/plain": [
              "3"
            ]
          },
          "metadata": {
            "tags": []
          },
          "execution_count": 10
        }
      ]
    },
    {
      "cell_type": "markdown",
      "metadata": {
        "id": "bzaBaDIG8GC8"
      },
      "source": [
        "# **Listing 2.4 Preapring the Image Data**"
      ]
    },
    {
      "cell_type": "code",
      "metadata": {
        "id": "neMxhaKC8Nsm"
      },
      "source": [
        "train_images=train_images.reshape(60000, 28*28)\r\n",
        "train_images = train_images.astype(\"float32\")/255\r\n",
        "\r\n",
        "test_images = test_images.reshape(10000, 28*28)\r\n",
        "test_images = test_images.astype(\"float32\")/255\r\n",
        "\r\n"
      ],
      "execution_count": 11,
      "outputs": []
    },
    {
      "cell_type": "markdown",
      "metadata": {
        "id": "cL7Q8jyT-WQW"
      },
      "source": [
        "# **Listing 2.5 Preparing the Labels**"
      ]
    },
    {
      "cell_type": "code",
      "metadata": {
        "colab": {
          "base_uri": "https://localhost:8080/"
        },
        "id": "uBH2iEFE-joT",
        "outputId": "b24eb05d-50a2-428a-d141-d3406c32ab9e"
      },
      "source": [
        "train_labels[0] # We are getting label directly"
      ],
      "execution_count": 12,
      "outputs": [
        {
          "output_type": "execute_result",
          "data": {
            "text/plain": [
              "5"
            ]
          },
          "metadata": {
            "tags": []
          },
          "execution_count": 12
        }
      ]
    },
    {
      "cell_type": "markdown",
      "metadata": {
        "id": "AuUX1X98_fzU"
      },
      "source": [
        "# **> One-Hot-Encoding**"
      ]
    },
    {
      "cell_type": "code",
      "metadata": {
        "id": "NRS2pcOH_pkV"
      },
      "source": [
        "from tensorflow.keras.utils import to_categorical\r\n",
        "train_labels = to_categorical(train_labels)\r\n",
        "test_labels = to_categorical(test_labels)"
      ],
      "execution_count": 13,
      "outputs": []
    },
    {
      "cell_type": "code",
      "metadata": {
        "colab": {
          "base_uri": "https://localhost:8080/"
        },
        "id": "TMuypv_aAxz0",
        "outputId": "661340e2-b6ed-46b2-a17f-71d092e8758d"
      },
      "source": [
        "train_labels[0] # The above One-Hot-Encoding converts the label into an array "
      ],
      "execution_count": 14,
      "outputs": [
        {
          "output_type": "execute_result",
          "data": {
            "text/plain": [
              "array([0., 0., 0., 0., 0., 1., 0., 0., 0., 0.], dtype=float32)"
            ]
          },
          "metadata": {
            "tags": []
          },
          "execution_count": 14
        }
      ]
    },
    {
      "cell_type": "code",
      "metadata": {
        "id": "2A7X4wfBA6Qb"
      },
      "source": [
        ""
      ],
      "execution_count": 14,
      "outputs": []
    },
    {
      "cell_type": "markdown",
      "metadata": {
        "id": "u5X81h5rB5fj"
      },
      "source": [
        "# **Listing 2.6 Training the Model**"
      ]
    },
    {
      "cell_type": "code",
      "metadata": {
        "colab": {
          "base_uri": "https://localhost:8080/"
        },
        "id": "zy37HYELB-zQ",
        "outputId": "dced7d07-cffa-4157-d70d-244f0c4c4b84"
      },
      "source": [
        "network.fit(train_images, train_labels, epochs =5, batch_size=60)"
      ],
      "execution_count": 15,
      "outputs": [
        {
          "output_type": "stream",
          "text": [
            "Epoch 1/5\n",
            "1000/1000 [==============================] - 6s 6ms/step - loss: 0.3650 - accuracy: 0.8916\n",
            "Epoch 2/5\n",
            "1000/1000 [==============================] - 6s 6ms/step - loss: 0.0950 - accuracy: 0.9723\n",
            "Epoch 3/5\n",
            "1000/1000 [==============================] - 6s 6ms/step - loss: 0.0601 - accuracy: 0.9815\n",
            "Epoch 4/5\n",
            "1000/1000 [==============================] - 6s 6ms/step - loss: 0.0439 - accuracy: 0.9868\n",
            "Epoch 5/5\n",
            "1000/1000 [==============================] - 6s 6ms/step - loss: 0.0326 - accuracy: 0.9907\n"
          ],
          "name": "stdout"
        },
        {
          "output_type": "execute_result",
          "data": {
            "text/plain": [
              "<tensorflow.python.keras.callbacks.History at 0x7f9f2167e9b0>"
            ]
          },
          "metadata": {
            "tags": []
          },
          "execution_count": 15
        }
      ]
    },
    {
      "cell_type": "code",
      "metadata": {
        "id": "hHiYWjTLCb3T"
      },
      "source": [
        ""
      ],
      "execution_count": 15,
      "outputs": []
    },
    {
      "cell_type": "markdown",
      "metadata": {
        "id": "oM5HaMvqH8HD"
      },
      "source": [
        "# **Listing 2.7 Evaluate The Network**"
      ]
    },
    {
      "cell_type": "code",
      "metadata": {
        "colab": {
          "base_uri": "https://localhost:8080/"
        },
        "id": "zKWxJOmfIFou",
        "outputId": "f2aa506f-adda-4891-e348-5eb39bb8d49d"
      },
      "source": [
        "test_loss, test_acc = network.evaluate(test_images,  test_labels)\r\n",
        "print(\"Test_loss: \", test_loss)\r\n",
        "print(\"Test_acc: \", test_acc)"
      ],
      "execution_count": 17,
      "outputs": [
        {
          "output_type": "stream",
          "text": [
            "313/313 [==============================] - 1s 2ms/step - loss: 0.0729 - accuracy: 0.9796\n",
            "Test_loss:  0.0729028582572937\n",
            "Test_acc:  0.9796000123023987\n"
          ],
          "name": "stdout"
        }
      ]
    },
    {
      "cell_type": "code",
      "metadata": {
        "id": "eVPaB7pIIch8"
      },
      "source": [
        ""
      ],
      "execution_count": null,
      "outputs": []
    }
  ]
}